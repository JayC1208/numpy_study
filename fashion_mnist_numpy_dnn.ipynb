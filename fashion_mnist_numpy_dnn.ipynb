{
  "nbformat": 4,
  "nbformat_minor": 0,
  "metadata": {
    "colab": {
      "name": "fashion-mnist-numpy-dnn",
      "provenance": [],
      "collapsed_sections": [],
      "authorship_tag": "ABX9TyNN8xzCuz2Y3gotemvqxDT5",
      "include_colab_link": true
    },
    "kernelspec": {
      "name": "python3",
      "display_name": "Python 3"
    }
  },
  "cells": [
    {
      "cell_type": "markdown",
      "metadata": {
        "id": "view-in-github",
        "colab_type": "text"
      },
      "source": [
        "<a href=\"https://colab.research.google.com/github/JayC1208/numpy_study/blob/main/fashion_mnist_numpy_dnn.ipynb\" target=\"_parent\"><img src=\"https://colab.research.google.com/assets/colab-badge.svg\" alt=\"Open In Colab\"/></a>"
      ]
    },
    {
      "cell_type": "code",
      "metadata": {
        "colab": {
          "base_uri": "https://localhost:8080/"
        },
        "id": "xaTp6vxLaDOQ",
        "outputId": "b08d3c37-3623-4da0-dfde-1c2f405e9185"
      },
      "source": [
        "import tensorflow as tf\r\n",
        "from tensorflow import keras\r\n",
        "import numpy as np\r\n",
        "\r\n",
        "fashion_mnist = keras.datasets.fashion_mnist\r\n",
        "(train_images, train_labels), (test_images, test_labels) = fashion_mnist.load_data()\r\n",
        "train_images = train_images / 255.0\r\n",
        "test_images = test_images / 255.0\r\n",
        "\r\n",
        "lr = 0.0001\r\n",
        "\r\n",
        "\r\n",
        "def softmax(data):\r\n",
        "  max_val = np.max(data)\r\n",
        "  exp = np.exp(data-max_val)\r\n",
        "  sumExp = np.sum(exp)\r\n",
        "  result = exp/sumExp\r\n",
        "  return result\r\n",
        "\r\n",
        "input_datas = train_images.reshape(60000,-1)\r\n",
        "W1 = np.random.uniform(-np.sqrt(6/784),np.sqrt(6/784),size=(784,256))    # he initialization\r\n",
        "b1 = np.zeros(shape=(1,256))\r\n",
        "W2 = np.random.uniform(-np.sqrt(6/256),np.sqrt(6/256),size=(256,10))\r\n",
        "b2 = np.zeros(shape=(1,10))\r\n",
        "\r\n",
        "for i in range(60):\r\n",
        "  trial = i % 7\r\n",
        "  X1 = input_datas[i*100:(i+1)*100,:]\r\n",
        "  input_labels = train_labels[i*100:(i+1)*100]\r\n",
        "\r\n",
        "  # forward\r\n",
        "  X1 = input_datas[:100,:]\r\n",
        "  X2 = np.matmul(X1,W1) + b1\r\n",
        "  R_X2 = np.maximum(0,X2)  # relu \r\n",
        "  Y = np.matmul(R_X2,W2) + b2\r\n",
        "  result = softmax(Y)    # softmax\r\n",
        "  loss = -np.sum(input_labels*-np.argmax(np.log(result)),axis=-1,keepdims=False)  # loss\r\n",
        "\r\n",
        "  soft_grad  = np.copy(result)\r\n",
        "  # soft_grad[input_labels] -= 1\r\n",
        "\r\n",
        "  m = input_labels.shape[0]\r\n",
        "  soft_grad[range(m),input_labels] -= 1\r\n",
        "  ceGrad = soft_grad/m\r\n",
        "\r\n",
        "  grad_W2 = np.dot(ceGrad.T,R_X2)\r\n",
        "  print(grad_W2.shape)\r\n",
        "\r\n",
        "  grad_W1 = np.dot(ceGrad,W2.T)\r\n",
        "\r\n",
        "  W2 -= lr*grad_W2.T\r\n",
        "\r\n",
        "  grad_W1 *= (grad_W1>0)\r\n",
        "\r\n",
        "  grad_W1 = np.dot(grad_W1.T,X1)\r\n",
        "\r\n",
        "  W1 -= lr*grad_W1.T\r\n",
        "\r\n",
        "\r\n",
        "\r\n",
        "test_datas = test_images.reshape(10000,-1)\r\n",
        "X2 = np.matmul(test_datas,W1) + b1\r\n",
        "R_X2 = np.maximum(0,X2)  # relu \r\n",
        "Y = np.matmul(R_X2,W2) + b2\r\n",
        "result = softmax(Y)    # softmax"
      ],
      "execution_count": null,
      "outputs": [
        {
          "output_type": "stream",
          "text": [
            "(10, 256)\n",
            "(10, 256)\n",
            "(10, 256)\n",
            "(10, 256)\n",
            "(10, 256)\n",
            "(10, 256)\n",
            "(10, 256)\n",
            "(10, 256)\n",
            "(10, 256)\n",
            "(10, 256)\n",
            "(10, 256)\n",
            "(10, 256)\n",
            "(10, 256)\n",
            "(10, 256)\n",
            "(10, 256)\n",
            "(10, 256)\n",
            "(10, 256)\n",
            "(10, 256)\n",
            "(10, 256)\n",
            "(10, 256)\n",
            "(10, 256)\n",
            "(10, 256)\n",
            "(10, 256)\n",
            "(10, 256)\n",
            "(10, 256)\n",
            "(10, 256)\n",
            "(10, 256)\n",
            "(10, 256)\n",
            "(10, 256)\n",
            "(10, 256)\n",
            "(10, 256)\n",
            "(10, 256)\n",
            "(10, 256)\n",
            "(10, 256)\n",
            "(10, 256)\n",
            "(10, 256)\n",
            "(10, 256)\n",
            "(10, 256)\n",
            "(10, 256)\n",
            "(10, 256)\n",
            "(10, 256)\n",
            "(10, 256)\n",
            "(10, 256)\n",
            "(10, 256)\n",
            "(10, 256)\n",
            "(10, 256)\n",
            "(10, 256)\n",
            "(10, 256)\n",
            "(10, 256)\n",
            "(10, 256)\n",
            "(10, 256)\n",
            "(10, 256)\n",
            "(10, 256)\n",
            "(10, 256)\n",
            "(10, 256)\n",
            "(10, 256)\n",
            "(10, 256)\n",
            "(10, 256)\n",
            "(10, 256)\n",
            "(10, 256)\n"
          ],
          "name": "stdout"
        }
      ]
    },
    {
      "cell_type": "code",
      "metadata": {
        "colab": {
          "base_uri": "https://localhost:8080/"
        },
        "id": "RLPCR4VVdNsT",
        "outputId": "b2d9a134-5481-4635-d18b-f609fc7648a9"
      },
      "source": [
        "print(\"calculated:\",np.argmax(result[8]))\r\n",
        "print(\"real:\",test_labels[8])\r\n"
      ],
      "execution_count": null,
      "outputs": [
        {
          "output_type": "stream",
          "text": [
            "calculated: 8\n",
            "real: 5\n"
          ],
          "name": "stdout"
        }
      ]
    },
    {
      "cell_type": "code",
      "metadata": {
        "id": "OV6XVGevf863"
      },
      "source": [
        ""
      ],
      "execution_count": null,
      "outputs": []
    }
  ]
}